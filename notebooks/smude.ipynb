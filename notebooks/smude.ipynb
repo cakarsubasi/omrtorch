{
 "cells": [
  {
   "cell_type": "code",
   "execution_count": 4,
   "metadata": {},
   "outputs": [],
   "source": [
    "from smude import Smude\n",
    "from skimage.io import imread, imsave\n",
    "import os"
   ]
  },
  {
   "cell_type": "code",
   "execution_count": 8,
   "metadata": {},
   "outputs": [],
   "source": [
    "IMAGE = os.path.join('..', 'samples', 'aural_tests.jpg')\n",
    "image = imread(IMAGE)"
   ]
  },
  {
   "cell_type": "code",
   "execution_count": 9,
   "metadata": {},
   "outputs": [
    {
     "ename": "ValueError",
     "evalue": "attempt to get argmin of an empty sequence",
     "output_type": "error",
     "traceback": [
      "\u001b[1;31m---------------------------------------------------------------------------\u001b[0m",
      "\u001b[1;31mValueError\u001b[0m                                Traceback (most recent call last)",
      "\u001b[1;32mc:\\Repositories\\omrtorch\\notebooks\\smude.ipynb Cell 3'\u001b[0m in \u001b[0;36m<module>\u001b[1;34m\u001b[0m\n\u001b[0;32m      <a href='vscode-notebook-cell:/c%3A/Repositories/omrtorch/notebooks/smude.ipynb#ch0000002?line=0'>1</a>\u001b[0m smude \u001b[39m=\u001b[39m Smude(use_gpu\u001b[39m=\u001b[39m\u001b[39mFalse\u001b[39;00m, binarize_output\u001b[39m=\u001b[39m\u001b[39mTrue\u001b[39;00m)\n\u001b[1;32m----> <a href='vscode-notebook-cell:/c%3A/Repositories/omrtorch/notebooks/smude.ipynb#ch0000002?line=1'>2</a>\u001b[0m result \u001b[39m=\u001b[39m smude\u001b[39m.\u001b[39;49mprocess(image)\n",
      "File \u001b[1;32m~\\AppData\\Roaming\\Python\\Python39\\lib\\site-packages\\smude-0.1.0-py3.9.egg\\smude\\__init__.py:141\u001b[0m, in \u001b[0;36mSmude.process\u001b[1;34m(self, image, optimize_f)\u001b[0m\n\u001b[0;32m    <a href='file:///c%3A/Users/explo/AppData/Roaming/Python/Python39/lib/site-packages/smude-0.1.0-py3.9.egg/smude/__init__.py?line=137'>138</a>\u001b[0m logging\u001b[39m.\u001b[39minfo(\u001b[39m'\u001b[39m\u001b[39mDewarping...\u001b[39m\u001b[39m'\u001b[39m)\n\u001b[0;32m    <a href='file:///c%3A/Users/explo/AppData/Roaming/Python/Python39/lib/site-packages/smude-0.1.0-py3.9.egg/smude/__init__.py?line=139'>140</a>\u001b[0m \u001b[39m# Dewarp output\u001b[39;00m\n\u001b[1;32m--> <a href='file:///c%3A/Users/explo/AppData/Roaming/Python/Python39/lib/site-packages/smude-0.1.0-py3.9.egg/smude/__init__.py?line=140'>141</a>\u001b[0m cols, rows \u001b[39m=\u001b[39m mrcdi(\n\u001b[0;32m    <a href='file:///c%3A/Users/explo/AppData/Roaming/Python/Python39/lib/site-packages/smude-0.1.0-py3.9.egg/smude/__init__.py?line=141'>142</a>\u001b[0m     input_img \u001b[39m=\u001b[39;49m grayscale,\n\u001b[0;32m    <a href='file:///c%3A/Users/explo/AppData/Roaming/Python/Python39/lib/site-packages/smude-0.1.0-py3.9.egg/smude/__init__.py?line=142'>143</a>\u001b[0m     barlines_img \u001b[39m=\u001b[39;49m barlines,\n\u001b[0;32m    <a href='file:///c%3A/Users/explo/AppData/Roaming/Python/Python39/lib/site-packages/smude-0.1.0-py3.9.egg/smude/__init__.py?line=143'>144</a>\u001b[0m     upper_img \u001b[39m=\u001b[39;49m upper,\n\u001b[0;32m    <a href='file:///c%3A/Users/explo/AppData/Roaming/Python/Python39/lib/site-packages/smude-0.1.0-py3.9.egg/smude/__init__.py?line=144'>145</a>\u001b[0m     lower_img \u001b[39m=\u001b[39;49m lower,\n\u001b[0;32m    <a href='file:///c%3A/Users/explo/AppData/Roaming/Python/Python39/lib/site-packages/smude-0.1.0-py3.9.egg/smude/__init__.py?line=145'>146</a>\u001b[0m     background_img \u001b[39m=\u001b[39;49m background,\n\u001b[0;32m    <a href='file:///c%3A/Users/explo/AppData/Roaming/Python/Python39/lib/site-packages/smude-0.1.0-py3.9.egg/smude/__init__.py?line=146'>147</a>\u001b[0m     original_img \u001b[39m=\u001b[39;49m binarized,\n\u001b[0;32m    <a href='file:///c%3A/Users/explo/AppData/Roaming/Python/Python39/lib/site-packages/smude-0.1.0-py3.9.egg/smude/__init__.py?line=147'>148</a>\u001b[0m     optimize_f \u001b[39m=\u001b[39;49m optimize_f\n\u001b[0;32m    <a href='file:///c%3A/Users/explo/AppData/Roaming/Python/Python39/lib/site-packages/smude-0.1.0-py3.9.egg/smude/__init__.py?line=148'>149</a>\u001b[0m )\n\u001b[0;32m    <a href='file:///c%3A/Users/explo/AppData/Roaming/Python/Python39/lib/site-packages/smude-0.1.0-py3.9.egg/smude/__init__.py?line=150'>151</a>\u001b[0m \u001b[39mif\u001b[39;00m \u001b[39mself\u001b[39m\u001b[39m.\u001b[39mbinarize_output:\n\u001b[0;32m    <a href='file:///c%3A/Users/explo/AppData/Roaming/Python/Python39/lib/site-packages/smude-0.1.0-py3.9.egg/smude/__init__.py?line=151'>152</a>\u001b[0m     dewarped \u001b[39m=\u001b[39m cv\u001b[39m.\u001b[39mremap(binarized, cols, rows, cv\u001b[39m.\u001b[39mINTER_CUBIC, \u001b[39mNone\u001b[39;00m, cv\u001b[39m.\u001b[39mBORDER_CONSTANT, \u001b[39m255\u001b[39m)\n",
      "File \u001b[1;32m~\\AppData\\Roaming\\Python\\Python39\\lib\\site-packages\\smude-0.1.0-py3.9.egg\\smude\\mrcdi.py:664\u001b[0m, in \u001b[0;36mmrcdi\u001b[1;34m(input_img, barlines_img, upper_img, lower_img, background_img, original_img, optimize_f)\u001b[0m\n\u001b[0;32m    <a href='file:///c%3A/Users/explo/AppData/Roaming/Python/Python39/lib/site-packages/smude-0.1.0-py3.9.egg/smude/mrcdi.py?line=659'>660</a>\u001b[0m num_latitudes \u001b[39m=\u001b[39m \u001b[39mint\u001b[39m(h \u001b[39m/\u001b[39m min_dim \u001b[39m*\u001b[39m \u001b[39m20\u001b[39m)\n\u001b[0;32m    <a href='file:///c%3A/Users/explo/AppData/Roaming/Python/Python39/lib/site-packages/smude-0.1.0-py3.9.egg/smude/mrcdi.py?line=662'>663</a>\u001b[0m logging\u001b[39m.\u001b[39minfo(\u001b[39m'\u001b[39m\u001b[39mEstimating vanishing point\u001b[39m\u001b[39m'\u001b[39m)\n\u001b[1;32m--> <a href='file:///c%3A/Users/explo/AppData/Roaming/Python/Python39/lib/site-packages/smude-0.1.0-py3.9.egg/smude/mrcdi.py?line=663'>664</a>\u001b[0m left, right \u001b[39m=\u001b[39m get_outer_barlines(barlines_img)\n\u001b[0;32m    <a href='file:///c%3A/Users/explo/AppData/Roaming/Python/Python39/lib/site-packages/smude-0.1.0-py3.9.egg/smude/mrcdi.py?line=664'>665</a>\u001b[0m v_x, v_y \u001b[39m=\u001b[39m line_intersection(left, right)\n\u001b[0;32m    <a href='file:///c%3A/Users/explo/AppData/Roaming/Python/Python39/lib/site-packages/smude-0.1.0-py3.9.egg/smude/mrcdi.py?line=667'>668</a>\u001b[0m logging\u001b[39m.\u001b[39minfo(\u001b[39m'\u001b[39m\u001b[39mGetting top and bottom stafflines\u001b[39m\u001b[39m'\u001b[39m)\n",
      "File \u001b[1;32m~\\AppData\\Roaming\\Python\\Python39\\lib\\site-packages\\smude-0.1.0-py3.9.egg\\smude\\mrcdi.py:56\u001b[0m, in \u001b[0;36mget_outer_barlines\u001b[1;34m(barline_img)\u001b[0m\n\u001b[0;32m     <a href='file:///c%3A/Users/explo/AppData/Roaming/Python/Python39/lib/site-packages/smude-0.1.0-py3.9.egg/smude/mrcdi.py?line=52'>53</a>\u001b[0m origin \u001b[39m=\u001b[39m np\u001b[39m.\u001b[39marray((\u001b[39m0\u001b[39m, barline_img\u001b[39m.\u001b[39mshape[\u001b[39m1\u001b[39m]))\n\u001b[0;32m     <a href='file:///c%3A/Users/explo/AppData/Roaming/Python/Python39/lib/site-packages/smude-0.1.0-py3.9.egg/smude/mrcdi.py?line=54'>55</a>\u001b[0m \u001b[39m# Leftmost vertical line\u001b[39;00m\n\u001b[1;32m---> <a href='file:///c%3A/Users/explo/AppData/Roaming/Python/Python39/lib/site-packages/smude-0.1.0-py3.9.egg/smude/mrcdi.py?line=55'>56</a>\u001b[0m l_idx \u001b[39m=\u001b[39m np\u001b[39m.\u001b[39;49margmin(peaks[\u001b[39m2\u001b[39;49m])\n\u001b[0;32m     <a href='file:///c%3A/Users/explo/AppData/Roaming/Python/Python39/lib/site-packages/smude-0.1.0-py3.9.egg/smude/mrcdi.py?line=56'>57</a>\u001b[0m _, angle, dist \u001b[39m=\u001b[39m peaks[:, l_idx]\n\u001b[0;32m     <a href='file:///c%3A/Users/explo/AppData/Roaming/Python/Python39/lib/site-packages/smude-0.1.0-py3.9.egg/smude/mrcdi.py?line=57'>58</a>\u001b[0m y1, y2 \u001b[39m=\u001b[39m (dist \u001b[39m-\u001b[39m origin \u001b[39m*\u001b[39m np\u001b[39m.\u001b[39mcos(angle)) \u001b[39m/\u001b[39m np\u001b[39m.\u001b[39msin(angle)\n",
      "File \u001b[1;32m<__array_function__ internals>:180\u001b[0m, in \u001b[0;36margmin\u001b[1;34m(*args, **kwargs)\u001b[0m\n",
      "File \u001b[1;32m~\\AppData\\Roaming\\Python\\Python39\\lib\\site-packages\\numpy\\core\\fromnumeric.py:1312\u001b[0m, in \u001b[0;36margmin\u001b[1;34m(a, axis, out, keepdims)\u001b[0m\n\u001b[0;32m   <a href='file:///c%3A/Users/explo/AppData/Roaming/Python/Python39/lib/site-packages/numpy/core/fromnumeric.py?line=1224'>1225</a>\u001b[0m \u001b[39m\"\"\"\u001b[39;00m\n\u001b[0;32m   <a href='file:///c%3A/Users/explo/AppData/Roaming/Python/Python39/lib/site-packages/numpy/core/fromnumeric.py?line=1225'>1226</a>\u001b[0m \u001b[39mReturns the indices of the minimum values along an axis.\u001b[39;00m\n\u001b[0;32m   <a href='file:///c%3A/Users/explo/AppData/Roaming/Python/Python39/lib/site-packages/numpy/core/fromnumeric.py?line=1226'>1227</a>\u001b[0m \n\u001b[1;32m   (...)\u001b[0m\n\u001b[0;32m   <a href='file:///c%3A/Users/explo/AppData/Roaming/Python/Python39/lib/site-packages/numpy/core/fromnumeric.py?line=1308'>1309</a>\u001b[0m \u001b[39m(2, 1, 4)\u001b[39;00m\n\u001b[0;32m   <a href='file:///c%3A/Users/explo/AppData/Roaming/Python/Python39/lib/site-packages/numpy/core/fromnumeric.py?line=1309'>1310</a>\u001b[0m \u001b[39m\"\"\"\u001b[39;00m\n\u001b[0;32m   <a href='file:///c%3A/Users/explo/AppData/Roaming/Python/Python39/lib/site-packages/numpy/core/fromnumeric.py?line=1310'>1311</a>\u001b[0m kwds \u001b[39m=\u001b[39m {\u001b[39m'\u001b[39m\u001b[39mkeepdims\u001b[39m\u001b[39m'\u001b[39m: keepdims} \u001b[39mif\u001b[39;00m keepdims \u001b[39mis\u001b[39;00m \u001b[39mnot\u001b[39;00m np\u001b[39m.\u001b[39m_NoValue \u001b[39melse\u001b[39;00m {}\n\u001b[1;32m-> <a href='file:///c%3A/Users/explo/AppData/Roaming/Python/Python39/lib/site-packages/numpy/core/fromnumeric.py?line=1311'>1312</a>\u001b[0m \u001b[39mreturn\u001b[39;00m _wrapfunc(a, \u001b[39m'\u001b[39m\u001b[39margmin\u001b[39m\u001b[39m'\u001b[39m, axis\u001b[39m=\u001b[39maxis, out\u001b[39m=\u001b[39mout, \u001b[39m*\u001b[39m\u001b[39m*\u001b[39mkwds)\n",
      "File \u001b[1;32m~\\AppData\\Roaming\\Python\\Python39\\lib\\site-packages\\numpy\\core\\fromnumeric.py:57\u001b[0m, in \u001b[0;36m_wrapfunc\u001b[1;34m(obj, method, *args, **kwds)\u001b[0m\n\u001b[0;32m     <a href='file:///c%3A/Users/explo/AppData/Roaming/Python/Python39/lib/site-packages/numpy/core/fromnumeric.py?line=53'>54</a>\u001b[0m     \u001b[39mreturn\u001b[39;00m _wrapit(obj, method, \u001b[39m*\u001b[39margs, \u001b[39m*\u001b[39m\u001b[39m*\u001b[39mkwds)\n\u001b[0;32m     <a href='file:///c%3A/Users/explo/AppData/Roaming/Python/Python39/lib/site-packages/numpy/core/fromnumeric.py?line=55'>56</a>\u001b[0m \u001b[39mtry\u001b[39;00m:\n\u001b[1;32m---> <a href='file:///c%3A/Users/explo/AppData/Roaming/Python/Python39/lib/site-packages/numpy/core/fromnumeric.py?line=56'>57</a>\u001b[0m     \u001b[39mreturn\u001b[39;00m bound(\u001b[39m*\u001b[39margs, \u001b[39m*\u001b[39m\u001b[39m*\u001b[39mkwds)\n\u001b[0;32m     <a href='file:///c%3A/Users/explo/AppData/Roaming/Python/Python39/lib/site-packages/numpy/core/fromnumeric.py?line=57'>58</a>\u001b[0m \u001b[39mexcept\u001b[39;00m \u001b[39mTypeError\u001b[39;00m:\n\u001b[0;32m     <a href='file:///c%3A/Users/explo/AppData/Roaming/Python/Python39/lib/site-packages/numpy/core/fromnumeric.py?line=58'>59</a>\u001b[0m     \u001b[39m# A TypeError occurs if the object does have such a method in its\u001b[39;00m\n\u001b[0;32m     <a href='file:///c%3A/Users/explo/AppData/Roaming/Python/Python39/lib/site-packages/numpy/core/fromnumeric.py?line=59'>60</a>\u001b[0m     \u001b[39m# class, but its signature is not identical to that of NumPy's. This\u001b[39;00m\n\u001b[1;32m   (...)\u001b[0m\n\u001b[0;32m     <a href='file:///c%3A/Users/explo/AppData/Roaming/Python/Python39/lib/site-packages/numpy/core/fromnumeric.py?line=63'>64</a>\u001b[0m     \u001b[39m# Call _wrapit from within the except clause to ensure a potential\u001b[39;00m\n\u001b[0;32m     <a href='file:///c%3A/Users/explo/AppData/Roaming/Python/Python39/lib/site-packages/numpy/core/fromnumeric.py?line=64'>65</a>\u001b[0m     \u001b[39m# exception has a traceback chain.\u001b[39;00m\n\u001b[0;32m     <a href='file:///c%3A/Users/explo/AppData/Roaming/Python/Python39/lib/site-packages/numpy/core/fromnumeric.py?line=65'>66</a>\u001b[0m     \u001b[39mreturn\u001b[39;00m _wrapit(obj, method, \u001b[39m*\u001b[39margs, \u001b[39m*\u001b[39m\u001b[39m*\u001b[39mkwds)\n",
      "\u001b[1;31mValueError\u001b[0m: attempt to get argmin of an empty sequence"
     ]
    }
   ],
   "source": [
    "smude = Smude(use_gpu=False, binarize_output=True)\n",
    "result = smude.process(image)"
   ]
  },
  {
   "cell_type": "code",
   "execution_count": null,
   "metadata": {},
   "outputs": [],
   "source": []
  }
 ],
 "metadata": {
  "interpreter": {
   "hash": "73d43add95346d4398e31ae9f91d6e09eefd54bad8c0b6b9d72d8d059bb26101"
  },
  "kernelspec": {
   "display_name": "Python 3.9.10 64-bit",
   "language": "python",
   "name": "python3"
  },
  "language_info": {
   "codemirror_mode": {
    "name": "ipython",
    "version": 3
   },
   "file_extension": ".py",
   "mimetype": "text/x-python",
   "name": "python",
   "nbconvert_exporter": "python",
   "pygments_lexer": "ipython3",
   "version": "3.9.10"
  },
  "orig_nbformat": 4
 },
 "nbformat": 4,
 "nbformat_minor": 2
}
