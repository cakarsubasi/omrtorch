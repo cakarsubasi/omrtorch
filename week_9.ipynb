{
 "cells": [
  {
   "cell_type": "code",
   "execution_count": 27,
   "metadata": {},
   "outputs": [],
   "source": [
    "from omrdatasettools import Downloader, OmrDataset\n",
    "import xmlschema\n",
    "\n",
    "import sys\n",
    "import os\n",
    "import glob\n",
    "import re\n",
    "from PIL import Image\n",
    "from lxml import etree\n",
    "from pprint import pprint\n",
    "import numpy as np\n",
    "import torch\n",
    "from torch.utils.data import Dataset, DataLoader\n",
    "from sklearn.cluster import KMeans\n",
    "\n",
    "from datasets import MuscimaObjects"
   ]
  },
  {
   "cell_type": "code",
   "execution_count": 2,
   "metadata": {},
   "outputs": [],
   "source": [
    "muscimaroot = 'muscima'\n",
    "\n",
    "dataset = MuscimaObjects.MuscimaObjects(muscimaroot)"
   ]
  },
  {
   "cell_type": "code",
   "execution_count": 38,
   "metadata": {},
   "outputs": [],
   "source": [
    "label_list_all = dataset.label_list\n",
    "label_list_alt = ['noteheadFull', 'noteheadHalf', 'noteheadWhole', 'accidentalSharp', 'accidentalFlat', 'accidentalNatural',\n",
    "                    'gCflef', 'fClef', 'cClef']\n",
    "\n",
    "dataset.label_list = label_list_alt"
   ]
  },
  {
   "cell_type": "code",
   "execution_count": 39,
   "metadata": {},
   "outputs": [],
   "source": [
    "bboxes = []\n",
    "\n",
    "image, target = dataset[0]\n",
    "\n",
    "boxes = target['boxes'].numpy()\n",
    "\n",
    "boxes_w_h = np.asarray([boxes[:,2] - boxes[:,0], boxes[:,3] - boxes[:,1]]).T\n",
    "\n",
    "boxes_w_h.shape\n",
    "\n",
    "all_boxes = np.ndarray(shape=(0,2))\n",
    "for image, target in dataset:\n",
    "    boxes = target['boxes'].numpy()\n",
    "    boxes_w_h = np.asarray([boxes[:,2] - boxes[:,0], boxes[:,3] - boxes[:,1]]).T\n",
    "    all_boxes = np.vstack((all_boxes, boxes_w_h))"
   ]
  },
  {
   "cell_type": "code",
   "execution_count": 40,
   "metadata": {},
   "outputs": [
    {
     "data": {
      "text/plain": [
       "(27749, 2)"
      ]
     },
     "execution_count": 40,
     "metadata": {},
     "output_type": "execute_result"
    }
   ],
   "source": [
    "all_boxes.shape"
   ]
  },
  {
   "cell_type": "code",
   "execution_count": 24,
   "metadata": {},
   "outputs": [],
   "source": [
    "def average_iou(bboxes, anchors):\n",
    "    \"\"\"Calculates the Intersection over Union (IoU) between bounding boxes and\n",
    "    anchors.\n",
    "\n",
    "    Args:\n",
    "    bboxes : Array of bounding boxes in [width, height] format.\n",
    "    anchors : Array of aspect ratios [n, 2] format.\n",
    "\n",
    "    Returns:\n",
    "    avg_iou_perc : A Float value, average of IOU scores from each aspect ratio\n",
    "    \"\"\"\n",
    "    intersection_width = np.minimum(anchors[:, [0]], bboxes[:, 0]).T\n",
    "    intersection_height = np.minimum(anchors[:, [1]], bboxes[:, 1]).T\n",
    "\n",
    "    if np.any(intersection_width == 0) or np.any(intersection_height == 0):\n",
    "        raise ValueError(\"Some boxes have zero size.\")\n",
    "\n",
    "    intersection_area = intersection_width * intersection_height\n",
    "    boxes_area = np.prod(bboxes, axis=1, keepdims=True)\n",
    "    anchors_area = np.prod(anchors, axis=1, keepdims=True).T\n",
    "    union_area = boxes_area + anchors_area - intersection_area\n",
    "    avg_iou_perc = np.mean(np.max(intersection_area / union_area, axis=1)) * 100\n",
    "\n",
    "    return avg_iou_perc\n",
    "\n",
    "def kmeans_aspect_ratios(bboxes, kmeans_max_iter, num_aspect_ratios):\n",
    "  \"\"\"Calculate the centroid of bounding boxes clusters using Kmeans algorithm.\n",
    "\n",
    "  Args:\n",
    "  bboxes : Array of bounding boxes in [width, height] format.\n",
    "  kmeans_max_iter : Maximum number of iterations to find centroids.\n",
    "  num_aspect_ratios : Number of centroids to optimize kmeans.\n",
    "\n",
    "  Returns:\n",
    "  aspect_ratios : Centroids of cluster (optmised for dataset).\n",
    "  avg_iou_prec : Average score of bboxes intersecting with new aspect ratios.\n",
    "  \"\"\"\n",
    "\n",
    "  assert len(bboxes), \"You must provide bounding boxes\"\n",
    "\n",
    "  normalized_bboxes = bboxes / np.sqrt(bboxes.prod(axis=1, keepdims=True))\n",
    "  \n",
    "  # Using kmeans to find centroids of the width/height clusters\n",
    "  kmeans = KMeans(\n",
    "      init='random', n_clusters=num_aspect_ratios, random_state=0, max_iter=kmeans_max_iter)\n",
    "  kmeans.fit(X=normalized_bboxes)\n",
    "  ar = kmeans.cluster_centers_\n",
    "\n",
    "  assert len(ar), \"Unable to find k-means centroid, try increasing kmeans_max_iter.\"\n",
    "\n",
    "  avg_iou_perc = average_iou(normalized_bboxes, ar)\n",
    "\n",
    "  if not np.isfinite(avg_iou_perc):\n",
    "    sys.exit(\"Failed to get aspect ratios due to numerical errors in k-means\")\n",
    "\n",
    "  aspect_ratios = [w/h for w,h in ar]\n",
    "\n",
    "  return aspect_ratios, avg_iou_perc"
   ]
  },
  {
   "cell_type": "code",
   "execution_count": 35,
   "metadata": {},
   "outputs": [],
   "source": [
    "# Tune this based on your accuracy/speed goals as described above\n",
    "num_aspect_ratios = 4 # can be [2,3,4,5,6]\n",
    "\n",
    "# Tune the iterations based on the size and distribution of your dataset\n",
    "# You can check avg_iou_prec every 100 iterations to see how centroids converge\n",
    "kmeans_step = 2\n",
    "kmeans_max_iter = 20\n",
    "\n",
    "# These should match the training pipeline config ('fixed_shape_resizer' param)\n",
    "width = 1024\n",
    "height = 1024\n",
    "\n",
    "# Get the ground-truth bounding boxes for our dataset\n",
    "#bboxes = xml_to_boxes(path=XML_PATH, rescale_width=width, rescale_height=height)\n",
    "#bboxes = xml_to_boxes(path=XML_PATH)"
   ]
  },
  {
   "cell_type": "code",
   "execution_count": 41,
   "metadata": {},
   "outputs": [
    {
     "name": "stdout",
     "output_type": "stream",
     "text": [
      "iteration: 2\n",
      "Aspect ratios generated: [0.35, 0.62, 0.88, 1.21]\n",
      "Average IOU with anchors: 91.0661043734289\n",
      "iteration: 4\n",
      "Aspect ratios generated: [0.34, 0.61, 0.88, 1.21]\n",
      "Average IOU with anchors: 91.00637915771134\n",
      "iteration: 6\n",
      "Aspect ratios generated: [0.34, 0.61, 0.88, 1.21]\n",
      "Average IOU with anchors: 90.98162161591621\n",
      "iteration: 8\n",
      "Aspect ratios generated: [0.34, 0.6, 0.88, 1.21]\n",
      "Average IOU with anchors: 90.95950799557914\n",
      "iteration: 10\n",
      "Aspect ratios generated: [0.34, 0.6, 0.88, 1.21]\n",
      "Average IOU with anchors: 90.95950799557914\n",
      "iteration: 12\n",
      "Aspect ratios generated: [0.34, 0.6, 0.88, 1.21]\n",
      "Average IOU with anchors: 90.95950799557914\n",
      "iteration: 14\n",
      "Aspect ratios generated: [0.34, 0.6, 0.88, 1.21]\n",
      "Average IOU with anchors: 90.95950799557914\n",
      "iteration: 16\n",
      "Aspect ratios generated: [0.34, 0.6, 0.88, 1.21]\n",
      "Average IOU with anchors: 90.95950799557914\n",
      "iteration: 18\n",
      "Aspect ratios generated: [0.34, 0.6, 0.88, 1.21]\n",
      "Average IOU with anchors: 90.95950799557914\n",
      "Aspect ratios generated: [0.34, 0.6, 0.88, 1.21]\n",
      "Average IOU with anchors: 90.95950799557914\n"
     ]
    }
   ],
   "source": [
    "i = 1\n",
    "while i*kmeans_step < kmeans_max_iter:\n",
    "  aspect_ratios, avg_iou_perc =  kmeans_aspect_ratios(\n",
    "                                      bboxes=all_boxes,\n",
    "                                      kmeans_max_iter=i*kmeans_step,\n",
    "                                      num_aspect_ratios=num_aspect_ratios)\n",
    "  aspect_ratios = sorted(aspect_ratios)\n",
    "  print('iteration:', str(i*kmeans_step))\n",
    "  print('Aspect ratios generated:', [round(ar,2) for ar in aspect_ratios])\n",
    "  print('Average IOU with anchors:', avg_iou_perc)\n",
    "  i = i + 1\n",
    "\n",
    "\n",
    "\n",
    "aspect_ratios = sorted(aspect_ratios)\n",
    "\n",
    "print('Aspect ratios generated:', [round(ar,2) for ar in aspect_ratios])\n",
    "print('Average IOU with anchors:', avg_iou_perc)"
   ]
  }
 ],
 "metadata": {
  "interpreter": {
   "hash": "73d43add95346d4398e31ae9f91d6e09eefd54bad8c0b6b9d72d8d059bb26101"
  },
  "kernelspec": {
   "display_name": "Python 3.9.10 64-bit",
   "language": "python",
   "name": "python3"
  },
  "language_info": {
   "codemirror_mode": {
    "name": "ipython",
    "version": 3
   },
   "file_extension": ".py",
   "mimetype": "text/x-python",
   "name": "python",
   "nbconvert_exporter": "python",
   "pygments_lexer": "ipython3",
   "version": "3.9.10"
  },
  "orig_nbformat": 4
 },
 "nbformat": 4,
 "nbformat_minor": 2
}
